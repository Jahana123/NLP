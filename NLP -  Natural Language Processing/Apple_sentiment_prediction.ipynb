{
 "cells": [
  {
   "cell_type": "code",
   "execution_count": 1,
   "id": "0f6136ab",
   "metadata": {},
   "outputs": [],
   "source": [
    "import pandas as pd\n",
    "from sklearn.model_selection import train_test_split\n",
    "from sklearn.feature_extraction.text import TfidfVectorizer\n",
    "from sklearn.svm import SVC\n",
    "from sklearn.metrics import classification_report"
   ]
  },
  {
   "cell_type": "code",
   "execution_count": 2,
   "id": "05e7ee73",
   "metadata": {},
   "outputs": [
    {
     "data": {
      "text/html": [
       "<div>\n",
       "<style scoped>\n",
       "    .dataframe tbody tr th:only-of-type {\n",
       "        vertical-align: middle;\n",
       "    }\n",
       "\n",
       "    .dataframe tbody tr th {\n",
       "        vertical-align: top;\n",
       "    }\n",
       "\n",
       "    .dataframe thead th {\n",
       "        text-align: right;\n",
       "    }\n",
       "</style>\n",
       "<table border=\"1\" class=\"dataframe\">\n",
       "  <thead>\n",
       "    <tr style=\"text-align: right;\">\n",
       "      <th></th>\n",
       "      <th>Ratings</th>\n",
       "      <th>Comment</th>\n",
       "      <th>Reviews</th>\n",
       "    </tr>\n",
       "  </thead>\n",
       "  <tbody>\n",
       "    <tr>\n",
       "      <th>0</th>\n",
       "      <td>5</td>\n",
       "      <td>Super!</td>\n",
       "      <td>Great camera for pics and videos Battery life ...</td>\n",
       "    </tr>\n",
       "    <tr>\n",
       "      <th>1</th>\n",
       "      <td>5</td>\n",
       "      <td>Must buy!</td>\n",
       "      <td>Great device. Let me tell the Pros..1. Superb ...</td>\n",
       "    </tr>\n",
       "    <tr>\n",
       "      <th>2</th>\n",
       "      <td>5</td>\n",
       "      <td>Great product</td>\n",
       "      <td>Who all loves older size i.e., 4.7 inch type s...</td>\n",
       "    </tr>\n",
       "    <tr>\n",
       "      <th>3</th>\n",
       "      <td>5</td>\n",
       "      <td>Simply awesome</td>\n",
       "      <td>This iPhone SE is the best phone ever you get....</td>\n",
       "    </tr>\n",
       "    <tr>\n",
       "      <th>4</th>\n",
       "      <td>5</td>\n",
       "      <td>Classy product</td>\n",
       "      <td>This is my second iphone after iphone 4s. I’ve...</td>\n",
       "    </tr>\n",
       "  </tbody>\n",
       "</table>\n",
       "</div>"
      ],
      "text/plain": [
       "   Ratings         Comment                                            Reviews\n",
       "0        5          Super!  Great camera for pics and videos Battery life ...\n",
       "1        5       Must buy!  Great device. Let me tell the Pros..1. Superb ...\n",
       "2        5   Great product  Who all loves older size i.e., 4.7 inch type s...\n",
       "3        5  Simply awesome  This iPhone SE is the best phone ever you get....\n",
       "4        5  Classy product  This is my second iphone after iphone 4s. I’ve..."
      ]
     },
     "execution_count": 2,
     "metadata": {},
     "output_type": "execute_result"
    }
   ],
   "source": [
    "# Load dataset\n",
    "data = pd.read_csv('APPLE_iphone_.csv') \n",
    "data.head()"
   ]
  },
  {
   "cell_type": "code",
   "execution_count": 3,
   "id": "8e0a2064",
   "metadata": {},
   "outputs": [
    {
     "data": {
      "text/plain": [
       "(9713, 3)"
      ]
     },
     "execution_count": 3,
     "metadata": {},
     "output_type": "execute_result"
    }
   ],
   "source": [
    "data.shape"
   ]
  },
  {
   "cell_type": "code",
   "execution_count": 4,
   "id": "d85bee63",
   "metadata": {},
   "outputs": [
    {
     "data": {
      "text/plain": [
       "29139"
      ]
     },
     "execution_count": 4,
     "metadata": {},
     "output_type": "execute_result"
    }
   ],
   "source": [
    "data.size"
   ]
  },
  {
   "cell_type": "code",
   "execution_count": 5,
   "id": "e2f9f382",
   "metadata": {},
   "outputs": [
    {
     "name": "stdout",
     "output_type": "stream",
     "text": [
      "<class 'pandas.core.frame.DataFrame'>\n",
      "RangeIndex: 9713 entries, 0 to 9712\n",
      "Data columns (total 3 columns):\n",
      " #   Column   Non-Null Count  Dtype \n",
      "---  ------   --------------  ----- \n",
      " 0   Ratings  9713 non-null   int64 \n",
      " 1   Comment  9713 non-null   object\n",
      " 2   Reviews  9713 non-null   object\n",
      "dtypes: int64(1), object(2)\n",
      "memory usage: 227.8+ KB\n"
     ]
    }
   ],
   "source": [
    "data.info()"
   ]
  },
  {
   "cell_type": "code",
   "execution_count": 6,
   "id": "b2c6d321",
   "metadata": {},
   "outputs": [
    {
     "data": {
      "text/plain": [
       "Ratings    0\n",
       "Comment    0\n",
       "Reviews    0\n",
       "dtype: int64"
      ]
     },
     "execution_count": 6,
     "metadata": {},
     "output_type": "execute_result"
    }
   ],
   "source": [
    "data.isnull().sum()"
   ]
  },
  {
   "cell_type": "code",
   "execution_count": 7,
   "id": "2ffc21ea",
   "metadata": {},
   "outputs": [
    {
     "data": {
      "text/plain": [
       "649"
      ]
     },
     "execution_count": 7,
     "metadata": {},
     "output_type": "execute_result"
    }
   ],
   "source": [
    "data.duplicated().sum()"
   ]
  },
  {
   "cell_type": "code",
   "execution_count": 8,
   "id": "e6d3582a",
   "metadata": {},
   "outputs": [
    {
     "data": {
      "text/html": [
       "<div>\n",
       "<style scoped>\n",
       "    .dataframe tbody tr th:only-of-type {\n",
       "        vertical-align: middle;\n",
       "    }\n",
       "\n",
       "    .dataframe tbody tr th {\n",
       "        vertical-align: top;\n",
       "    }\n",
       "\n",
       "    .dataframe thead th {\n",
       "        text-align: right;\n",
       "    }\n",
       "</style>\n",
       "<table border=\"1\" class=\"dataframe\">\n",
       "  <thead>\n",
       "    <tr style=\"text-align: right;\">\n",
       "      <th></th>\n",
       "      <th>Ratings</th>\n",
       "      <th>Comment</th>\n",
       "      <th>Reviews</th>\n",
       "    </tr>\n",
       "  </thead>\n",
       "  <tbody>\n",
       "    <tr>\n",
       "      <th>0</th>\n",
       "      <td>5</td>\n",
       "      <td>Super!</td>\n",
       "      <td>Great camera for pics and videos Battery life ...</td>\n",
       "    </tr>\n",
       "    <tr>\n",
       "      <th>1</th>\n",
       "      <td>5</td>\n",
       "      <td>Must buy!</td>\n",
       "      <td>Great device. Let me tell the Pros..1. Superb ...</td>\n",
       "    </tr>\n",
       "    <tr>\n",
       "      <th>2</th>\n",
       "      <td>5</td>\n",
       "      <td>Great product</td>\n",
       "      <td>Who all loves older size i.e., 4.7 inch type s...</td>\n",
       "    </tr>\n",
       "    <tr>\n",
       "      <th>3</th>\n",
       "      <td>5</td>\n",
       "      <td>Simply awesome</td>\n",
       "      <td>This iPhone SE is the best phone ever you get....</td>\n",
       "    </tr>\n",
       "    <tr>\n",
       "      <th>4</th>\n",
       "      <td>5</td>\n",
       "      <td>Classy product</td>\n",
       "      <td>This is my second iphone after iphone 4s. I’ve...</td>\n",
       "    </tr>\n",
       "    <tr>\n",
       "      <th>...</th>\n",
       "      <td>...</td>\n",
       "      <td>...</td>\n",
       "      <td>...</td>\n",
       "    </tr>\n",
       "    <tr>\n",
       "      <th>9708</th>\n",
       "      <td>5</td>\n",
       "      <td>Terrific purchase</td>\n",
       "      <td>Absolutely brilliantREAD MORE</td>\n",
       "    </tr>\n",
       "    <tr>\n",
       "      <th>9709</th>\n",
       "      <td>5</td>\n",
       "      <td>Classy product</td>\n",
       "      <td>Superb phone. This is my 4th iPhone, I feel SE...</td>\n",
       "    </tr>\n",
       "    <tr>\n",
       "      <th>9710</th>\n",
       "      <td>5</td>\n",
       "      <td>Awesome</td>\n",
       "      <td>very niceREAD MORE</td>\n",
       "    </tr>\n",
       "    <tr>\n",
       "      <th>9711</th>\n",
       "      <td>5</td>\n",
       "      <td>Super!</td>\n",
       "      <td>Loving it as of now. Good Product .READ MORE</td>\n",
       "    </tr>\n",
       "    <tr>\n",
       "      <th>9712</th>\n",
       "      <td>5</td>\n",
       "      <td>Terrific purchase</td>\n",
       "      <td>NiceElegant ElectricREAD MORE</td>\n",
       "    </tr>\n",
       "  </tbody>\n",
       "</table>\n",
       "<p>9064 rows × 3 columns</p>\n",
       "</div>"
      ],
      "text/plain": [
       "      Ratings            Comment  \\\n",
       "0           5             Super!   \n",
       "1           5          Must buy!   \n",
       "2           5      Great product   \n",
       "3           5     Simply awesome   \n",
       "4           5     Classy product   \n",
       "...       ...                ...   \n",
       "9708        5  Terrific purchase   \n",
       "9709        5     Classy product   \n",
       "9710        5            Awesome   \n",
       "9711        5             Super!   \n",
       "9712        5  Terrific purchase   \n",
       "\n",
       "                                                Reviews  \n",
       "0     Great camera for pics and videos Battery life ...  \n",
       "1     Great device. Let me tell the Pros..1. Superb ...  \n",
       "2     Who all loves older size i.e., 4.7 inch type s...  \n",
       "3     This iPhone SE is the best phone ever you get....  \n",
       "4     This is my second iphone after iphone 4s. I’ve...  \n",
       "...                                                 ...  \n",
       "9708                      Absolutely brilliantREAD MORE  \n",
       "9709  Superb phone. This is my 4th iPhone, I feel SE...  \n",
       "9710                                 very niceREAD MORE  \n",
       "9711       Loving it as of now. Good Product .READ MORE  \n",
       "9712                      NiceElegant ElectricREAD MORE  \n",
       "\n",
       "[9064 rows x 3 columns]"
      ]
     },
     "execution_count": 8,
     "metadata": {},
     "output_type": "execute_result"
    }
   ],
   "source": [
    "data.drop_duplicates()"
   ]
  },
  {
   "cell_type": "code",
   "execution_count": 9,
   "id": "dc99b976",
   "metadata": {},
   "outputs": [],
   "source": [
    "data['Sentiment'] = data['Ratings'].apply(lambda x: 'Positive' if x in [3, 4, 5] else 'Negative') #positive and neutral taken as positive"
   ]
  },
  {
   "cell_type": "code",
   "execution_count": 10,
   "id": "153298e0",
   "metadata": {},
   "outputs": [],
   "source": [
    "# Split dataset into training and testing sets\n",
    "X_train, X_test, y_train, y_test = train_test_split(data['Reviews'], data['Sentiment'], test_size=0.2, random_state=42)"
   ]
  },
  {
   "cell_type": "code",
   "execution_count": 11,
   "id": "69a57fa9",
   "metadata": {},
   "outputs": [],
   "source": [
    "# Feature extraction using TF-IDF Vectorizer\n",
    "tfidf_vectorizer = TfidfVectorizer(max_features=10000)\n",
    "X_train_tfidf = tfidf_vectorizer.fit_transform(X_train)\n",
    "X_test_tfidf = tfidf_vectorizer.transform(X_test)"
   ]
  },
  {
   "cell_type": "code",
   "execution_count": 12,
   "id": "1677ee74",
   "metadata": {},
   "outputs": [
    {
     "data": {
      "text/html": [
       "<style>#sk-container-id-1 {color: black;}#sk-container-id-1 pre{padding: 0;}#sk-container-id-1 div.sk-toggleable {background-color: white;}#sk-container-id-1 label.sk-toggleable__label {cursor: pointer;display: block;width: 100%;margin-bottom: 0;padding: 0.3em;box-sizing: border-box;text-align: center;}#sk-container-id-1 label.sk-toggleable__label-arrow:before {content: \"▸\";float: left;margin-right: 0.25em;color: #696969;}#sk-container-id-1 label.sk-toggleable__label-arrow:hover:before {color: black;}#sk-container-id-1 div.sk-estimator:hover label.sk-toggleable__label-arrow:before {color: black;}#sk-container-id-1 div.sk-toggleable__content {max-height: 0;max-width: 0;overflow: hidden;text-align: left;background-color: #f0f8ff;}#sk-container-id-1 div.sk-toggleable__content pre {margin: 0.2em;color: black;border-radius: 0.25em;background-color: #f0f8ff;}#sk-container-id-1 input.sk-toggleable__control:checked~div.sk-toggleable__content {max-height: 200px;max-width: 100%;overflow: auto;}#sk-container-id-1 input.sk-toggleable__control:checked~label.sk-toggleable__label-arrow:before {content: \"▾\";}#sk-container-id-1 div.sk-estimator input.sk-toggleable__control:checked~label.sk-toggleable__label {background-color: #d4ebff;}#sk-container-id-1 div.sk-label input.sk-toggleable__control:checked~label.sk-toggleable__label {background-color: #d4ebff;}#sk-container-id-1 input.sk-hidden--visually {border: 0;clip: rect(1px 1px 1px 1px);clip: rect(1px, 1px, 1px, 1px);height: 1px;margin: -1px;overflow: hidden;padding: 0;position: absolute;width: 1px;}#sk-container-id-1 div.sk-estimator {font-family: monospace;background-color: #f0f8ff;border: 1px dotted black;border-radius: 0.25em;box-sizing: border-box;margin-bottom: 0.5em;}#sk-container-id-1 div.sk-estimator:hover {background-color: #d4ebff;}#sk-container-id-1 div.sk-parallel-item::after {content: \"\";width: 100%;border-bottom: 1px solid gray;flex-grow: 1;}#sk-container-id-1 div.sk-label:hover label.sk-toggleable__label {background-color: #d4ebff;}#sk-container-id-1 div.sk-serial::before {content: \"\";position: absolute;border-left: 1px solid gray;box-sizing: border-box;top: 0;bottom: 0;left: 50%;z-index: 0;}#sk-container-id-1 div.sk-serial {display: flex;flex-direction: column;align-items: center;background-color: white;padding-right: 0.2em;padding-left: 0.2em;position: relative;}#sk-container-id-1 div.sk-item {position: relative;z-index: 1;}#sk-container-id-1 div.sk-parallel {display: flex;align-items: stretch;justify-content: center;background-color: white;position: relative;}#sk-container-id-1 div.sk-item::before, #sk-container-id-1 div.sk-parallel-item::before {content: \"\";position: absolute;border-left: 1px solid gray;box-sizing: border-box;top: 0;bottom: 0;left: 50%;z-index: -1;}#sk-container-id-1 div.sk-parallel-item {display: flex;flex-direction: column;z-index: 1;position: relative;background-color: white;}#sk-container-id-1 div.sk-parallel-item:first-child::after {align-self: flex-end;width: 50%;}#sk-container-id-1 div.sk-parallel-item:last-child::after {align-self: flex-start;width: 50%;}#sk-container-id-1 div.sk-parallel-item:only-child::after {width: 0;}#sk-container-id-1 div.sk-dashed-wrapped {border: 1px dashed gray;margin: 0 0.4em 0.5em 0.4em;box-sizing: border-box;padding-bottom: 0.4em;background-color: white;}#sk-container-id-1 div.sk-label label {font-family: monospace;font-weight: bold;display: inline-block;line-height: 1.2em;}#sk-container-id-1 div.sk-label-container {text-align: center;}#sk-container-id-1 div.sk-container {/* jupyter's `normalize.less` sets `[hidden] { display: none; }` but bootstrap.min.css set `[hidden] { display: none !important; }` so we also need the `!important` here to be able to override the default hidden behavior on the sphinx rendered scikit-learn.org. See: https://github.com/scikit-learn/scikit-learn/issues/21755 */display: inline-block !important;position: relative;}#sk-container-id-1 div.sk-text-repr-fallback {display: none;}</style><div id=\"sk-container-id-1\" class=\"sk-top-container\"><div class=\"sk-text-repr-fallback\"><pre>SVC(kernel=&#x27;linear&#x27;)</pre><b>In a Jupyter environment, please rerun this cell to show the HTML representation or trust the notebook. <br />On GitHub, the HTML representation is unable to render, please try loading this page with nbviewer.org.</b></div><div class=\"sk-container\" hidden><div class=\"sk-item\"><div class=\"sk-estimator sk-toggleable\"><input class=\"sk-toggleable__control sk-hidden--visually\" id=\"sk-estimator-id-1\" type=\"checkbox\" checked><label for=\"sk-estimator-id-1\" class=\"sk-toggleable__label sk-toggleable__label-arrow\">SVC</label><div class=\"sk-toggleable__content\"><pre>SVC(kernel=&#x27;linear&#x27;)</pre></div></div></div></div></div>"
      ],
      "text/plain": [
       "SVC(kernel='linear')"
      ]
     },
     "execution_count": 12,
     "metadata": {},
     "output_type": "execute_result"
    }
   ],
   "source": [
    "# Model training (Support Vector Machine classifier)\n",
    "svm_classifier = SVC(kernel='linear')\n",
    "svm_classifier.fit(X_train_tfidf, y_train)"
   ]
  },
  {
   "cell_type": "code",
   "execution_count": 13,
   "id": "d81a5119",
   "metadata": {},
   "outputs": [
    {
     "name": "stdout",
     "output_type": "stream",
     "text": [
      "              precision    recall  f1-score   support\n",
      "\n",
      "    Negative       0.62      0.30      0.40       127\n",
      "    Positive       0.95      0.99      0.97      1816\n",
      "\n",
      "    accuracy                           0.94      1943\n",
      "   macro avg       0.79      0.64      0.69      1943\n",
      "weighted avg       0.93      0.94      0.93      1943\n",
      "\n"
     ]
    }
   ],
   "source": [
    "# Model evaluation\n",
    "y_pred = svm_classifier.predict(X_test_tfidf)\n",
    "print(classification_report(y_test, y_pred))"
   ]
  },
  {
   "cell_type": "code",
   "execution_count": 18,
   "id": "06dd78f4",
   "metadata": {},
   "outputs": [],
   "source": [
    "# Function to map sentiment to ratings based on text content\n",
    "def map_sentiment_to_rating(sentiment, text):\n",
    "    if sentiment == 'Positive':\n",
    "        if 'excellent' in text.lower() or 'highly recommend' in text.lower():\n",
    "            return [5]\n",
    "        elif 'good' in text.lower() or 'satisfied' in text.lower():\n",
    "            return [4]\n",
    "        else:\n",
    "            return [3]  # Default positive rating\n",
    "    else:\n",
    "        if 'poor quality' in text.lower() or 'disappointed' in text.lower() or 'unsatisfied' in text.lower():\n",
    "            return [1]\n",
    "        elif 'bad' in text.lower() or 'not good' in text.lower():\n",
    "            return [2]\n",
    "        else:\n",
    "            return [1]  # Default negative rating"
   ]
  },
  {
   "cell_type": "code",
   "execution_count": 33,
   "id": "48edd9b8",
   "metadata": {},
   "outputs": [],
   "source": [
    "# Predict sentiment on new data\n",
    "new_texts = [\"Great phone, highly recommend it!\", \"Poor quality, disappointed with the purchase.\",\"happy\", \"unsatisfied\", \"bad experience\",\"satisfied\"]\n",
    "new_texts_tfidf = tfidf_vectorizer.transform(new_texts)\n",
    "predictions = svm_classifier.predict(new_texts_tfidf)"
   ]
  },
  {
   "cell_type": "code",
   "execution_count": 34,
   "id": "a3ddae4b",
   "metadata": {},
   "outputs": [
    {
     "name": "stdout",
     "output_type": "stream",
     "text": [
      "Text: Great phone, highly recommend it!\n",
      "Predicted Sentiment: Positive Predicted Rating: [5]\n",
      "\n",
      "Text: Poor quality, disappointed with the purchase.\n",
      "Predicted Sentiment: Negative Predicted Rating: [1]\n",
      "\n",
      "Text: happy\n",
      "Predicted Sentiment: Positive Predicted Rating: [3]\n",
      "\n",
      "Text: unsatisfied\n",
      "Predicted Sentiment: Negative Predicted Rating: [1]\n",
      "\n",
      "Text: bad experience\n",
      "Predicted Sentiment: Negative Predicted Rating: [2]\n",
      "\n",
      "Text: satisfied\n",
      "Predicted Sentiment: Positive Predicted Rating: [4]\n",
      "\n"
     ]
    }
   ],
   "source": [
    "# Map predictions to ratings\n",
    "for text, prediction in zip(new_texts, predictions):\n",
    "    predicted_rating = map_sentiment_to_rating(prediction, text)\n",
    "    print(f\"Text: {text}\\nPredicted Sentiment: {prediction} Predicted Rating: {predicted_rating}\\n\")\n"
   ]
  },
  {
   "cell_type": "code",
   "execution_count": null,
   "id": "015e1fa7",
   "metadata": {},
   "outputs": [],
   "source": []
  }
 ],
 "metadata": {
  "kernelspec": {
   "display_name": "Python 3 (ipykernel)",
   "language": "python",
   "name": "python3"
  },
  "language_info": {
   "codemirror_mode": {
    "name": "ipython",
    "version": 3
   },
   "file_extension": ".py",
   "mimetype": "text/x-python",
   "name": "python",
   "nbconvert_exporter": "python",
   "pygments_lexer": "ipython3",
   "version": "3.11.4"
  }
 },
 "nbformat": 4,
 "nbformat_minor": 5
}
